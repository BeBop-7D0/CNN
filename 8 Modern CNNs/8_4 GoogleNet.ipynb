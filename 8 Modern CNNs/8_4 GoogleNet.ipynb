{
 "cells": [
  {
   "cell_type": "code",
   "id": "initial_id",
   "metadata": {
    "collapsed": true
   },
   "source": [
    "import torch\n",
    "from torch import nn\n",
    "from torch.nn import functional as F\n",
    "from d2l import torch as d2l"
   ],
   "outputs": [],
   "execution_count": null
  },
  {
   "metadata": {
    "ExecuteTime": {
     "end_time": "2024-10-18T07:32:50.624511Z",
     "start_time": "2024-10-18T07:32:50.598509Z"
    }
   },
   "cell_type": "code",
   "source": [
    "class Inception(nn.Module):\n",
    "    # c1- c4 are number of output channels for each branch\n",
    "    def __init__(self, c1, c2, c3, c4, **kwargs):\n",
    "        super().__init__(**kwargs)\n",
    "        # Branch 1\n",
    "        self.b1_1 = nn.LazyConv2d(c1,kernel_size=1)\n",
    "        # Branch 2\n",
    "        self.b2_1 = nn.LazyConv2d(c2[0], kernel_size=1)\n",
    "        self.b2_2 = nn.LazyConv2d(c2[1], kernel_size=3, padding=1)\n",
    "        # Branch 3\n",
    "        self.b3_1 = nn.LazyConv2d(c3[0], kernel_size=1)\n",
    "        self.b3_2 = nn.LazyConv2d(c3[1], kernel_size=5, padding=2)\n",
    "        # Branch 4\n",
    "        self.b4_1 = nn.MaxPool2d(kernel_size=3, padding=1,stride=1)\n",
    "        self.b4_2 = nn.LazyConv2d(c4, kernel_size=1)\n",
    "    \n",
    "    def forward(self, X):\n",
    "        b1 = F.relu(self.b1_1(X))\n",
    "        b2 = F.relu(self.b2_2(F.relu(self.b2_1(X))))\n",
    "        b3 = F.relu(self.b3_2(F.relu(self.b3_1(X))))\n",
    "        b4 = F.relu(self.b4_2(F.relu(self.b4_1(X))))\n",
    "        return torch.cat((b1, b2, b3 , b4), dim=1)"
   ],
   "id": "325957ad2ae1816f",
   "outputs": [],
   "execution_count": 12
  },
  {
   "metadata": {
    "ExecuteTime": {
     "end_time": "2024-10-18T07:36:45.905797Z",
     "start_time": "2024-10-18T07:36:45.898792Z"
    }
   },
   "cell_type": "code",
   "source": [
    "class GoogleNet(d2l.Classifier):\n",
    "    def b1(selfs):\n",
    "        return nn.Sequential(\n",
    "            nn.LazyConv2d(64, kernel_size=7, stride=2, padding=3),\n",
    "            nn.ReLU(), nn.MaxPool2d(kernel_size=3, stride=2, padding=1)\n",
    "        )"
   ],
   "id": "f970b6a8afa7ac5e",
   "outputs": [],
   "execution_count": 13
  },
  {
   "metadata": {
    "ExecuteTime": {
     "end_time": "2024-10-18T07:38:44.069840Z",
     "start_time": "2024-10-18T07:38:44.053840Z"
    }
   },
   "cell_type": "code",
   "source": [
    "@d2l.add_to_class(GoogleNet)\n",
    "def b2(self):\n",
    "    return nn.Sequential(\n",
    "        nn.LazyConv2d(64, kernel_size=1), nn.ReLU(),\n",
    "        nn.LazyConv2d(192, kernel_size=3, padding=1), nn.ReLU(),\n",
    "        nn.MaxPool2d(kernel_size=3, stride=2, padding=1)\n",
    "    )"
   ],
   "id": "6f414c396bd48133",
   "outputs": [],
   "execution_count": 14
  },
  {
   "metadata": {
    "ExecuteTime": {
     "end_time": "2024-10-18T07:44:10.115161Z",
     "start_time": "2024-10-18T07:44:10.107148Z"
    }
   },
   "cell_type": "code",
   "source": [
    "@d2l.add_to_class(GoogleNet)\n",
    "def b3(self):\n",
    "    return nn.Sequential(Inception(c1=64, c2=(96, 128), c3=(16, 32), c4=32),\n",
    "                         Inception(c1=128, c2=(128, 192), c3=(32, 96), c4=64),\n",
    "                         nn.MaxPool2d(kernel_size=3, stride=2, padding=1)\n",
    "                         )"
   ],
   "id": "be9396d3fdaa29d9",
   "outputs": [],
   "execution_count": 15
  },
  {
   "metadata": {
    "ExecuteTime": {
     "end_time": "2024-10-18T07:45:06.567640Z",
     "start_time": "2024-10-18T07:45:06.559644Z"
    }
   },
   "cell_type": "code",
   "source": [
    "@d2l.add_to_class(GoogleNet)\n",
    "def b4(self):\n",
    "    return nn.Sequential(Inception(192, (96, 208), (16, 48), 64),\n",
    "                         Inception(160, (112, 224), (24, 64), 64),\n",
    "                         Inception(128, (128, 256), (24, 64), 64),\n",
    "                         Inception(112, (144, 288), (32, 64), 64),\n",
    "                         Inception(256, (160, 320), (32, 128), 128),\n",
    "                         nn.MaxPool2d(kernel_size=3, stride=2, padding=1))"
   ],
   "id": "326454855872e1b0",
   "outputs": [],
   "execution_count": 16
  },
  {
   "metadata": {
    "ExecuteTime": {
     "end_time": "2024-10-18T07:45:39.158925Z",
     "start_time": "2024-10-18T07:45:39.145933Z"
    }
   },
   "cell_type": "code",
   "source": [
    "@d2l.add_to_class(GoogleNet)\n",
    "def b5(self):\n",
    "    return nn.Sequential(Inception(256, (160, 320), (32, 128), 128),\n",
    "                         Inception(384, (192, 384), (48, 128), 128),\n",
    "                         nn.AdaptiveAvgPool2d((1,1)), nn.Flatten())"
   ],
   "id": "e5ccb761d88942d2",
   "outputs": [],
   "execution_count": 17
  },
  {
   "metadata": {
    "ExecuteTime": {
     "end_time": "2024-10-18T07:47:49.642519Z",
     "start_time": "2024-10-18T07:47:49.630519Z"
    }
   },
   "cell_type": "code",
   "source": [
    "@d2l.add_to_class(GoogleNet)\n",
    "def __init__(self, lr=0.1, num_classes=10):\n",
    "    super().__init__()\n",
    "    self.save_hyperparameters()\n",
    "    self.net = nn.Sequential(self.b1(), self.b2(), self.b3(). self.b4(), \n",
    "                             self.b5(), nn.LazyLinear(num_classes))\n",
    "    self.net.apply(d2l.init_cnn)"
   ],
   "id": "8aca6a680ecbf5de",
   "outputs": [],
   "execution_count": 18
  },
  {
   "metadata": {},
   "cell_type": "code",
   "outputs": [],
   "execution_count": null,
   "source": "",
   "id": "fc8d3caad05eda6"
  }
 ],
 "metadata": {
  "kernelspec": {
   "display_name": "Python 3",
   "language": "python",
   "name": "python3"
  },
  "language_info": {
   "codemirror_mode": {
    "name": "ipython",
    "version": 2
   },
   "file_extension": ".py",
   "mimetype": "text/x-python",
   "name": "python",
   "nbconvert_exporter": "python",
   "pygments_lexer": "ipython2",
   "version": "2.7.6"
  }
 },
 "nbformat": 4,
 "nbformat_minor": 5
}
